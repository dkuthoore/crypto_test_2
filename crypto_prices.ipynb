{
  "nbformat": 4,
  "nbformat_minor": 0,
  "metadata": {
    "colab": {
      "name": "crypto_prices.ipynb",
      "provenance": [],
      "authorship_tag": "ABX9TyMgXf06zqEhB5suYDojzKey",
      "include_colab_link": true
    },
    "kernelspec": {
      "name": "python3",
      "display_name": "Python 3"
    },
    "language_info": {
      "name": "python"
    }
  },
  "cells": [
    {
      "cell_type": "markdown",
      "metadata": {
        "id": "view-in-github",
        "colab_type": "text"
      },
      "source": [
        "<a href=\"https://colab.research.google.com/github/dkuthoore/crypto_test_2/blob/main/crypto_prices.ipynb\" target=\"_parent\"><img src=\"https://colab.research.google.com/assets/colab-badge.svg\" alt=\"Open In Colab\"/></a>"
      ]
    },
    {
      "cell_type": "markdown",
      "metadata": {
        "id": "9jECsRminJzs"
      },
      "source": [
        "Authenticate to Access Google Sheets"
      ]
    },
    {
      "cell_type": "code",
      "metadata": {
        "id": "MCyL8h1lc9nb"
      },
      "source": [
        "from google.colab import auth\n",
        "auth.authenticate_user()\n",
        "import gspread\n",
        "from oauth2client.client import GoogleCredentials\n",
        "gc = gspread.authorize(GoogleCredentials.get_application_default())"
      ],
      "execution_count": null,
      "outputs": []
    },
    {
      "cell_type": "markdown",
      "metadata": {
        "id": "EXMv5O42nSSR"
      },
      "source": [
        "Open Sheet using URL"
      ]
    },
    {
      "cell_type": "code",
      "metadata": {
        "id": "9RAO1QMweykz"
      },
      "source": [
        "wb = gc.open_by_url('https://docs.google.com/spreadsheets/d/1eodU8wfDyJs7pvd3clavmp8TeQPLjZtKxL9fcuX70YA/edit#gid=0')"
      ],
      "execution_count": null,
      "outputs": []
    },
    {
      "cell_type": "markdown",
      "metadata": {
        "id": "MZ3wyfo2nbNc"
      },
      "source": [
        "Run Script to pull prices"
      ]
    },
    {
      "cell_type": "code",
      "metadata": {
        "id": "1bNrX1T3gm6g",
        "colab": {
          "base_uri": "https://localhost:8080/"
        },
        "outputId": "e488898a-0e08-4d88-e587-002978e1ca5a"
      },
      "source": [
        "from bs4 import BeautifulSoup\n",
        "import requests\n",
        "import pandas as pd \n",
        "\n",
        "coinlist = ['Bitcoin', 'Ethereum', 'Chainlink', 'Litecoin', 'Filecoin', 'Uniswap', 'The-Graph', 'Algorand', 'Celo', \n",
        "            'kyber-network-crystal-legacy', 'basic-attention-token', 'omg','polygon', 'sushiswap','aave','augur',\n",
        "            'uma','numeraire','loopring','decentraland','synthetix-network-token','yearn-finance','curve-dao-token','tokemak','frax-share','klima-dao','gitcoin','gala',\n",
        "            'dopex', 'dopex-rdpx','convex-finance','butterflydao','fantom']\n",
        "pricelist=[]\n",
        "\n",
        "def get_price(coin):\n",
        "    \n",
        "    cmc = requests.get('https://coinmarketcap.com/currencies/'+coin+'/')\n",
        "    soup = BeautifulSoup(cmc.content, 'html.parser')\n",
        "    price = soup.find('div', attrs={'class':'priceValue'}).text\n",
        "    \n",
        "    return price\n",
        "\n",
        "for coin in coinlist:\n",
        "    pricelist.append(get_price(coin)) \n",
        "    print(coin, pricelist[-1])\n",
        "       \n",
        "\n",
        "pairs = list(zip(coinlist, pricelist))    \n",
        "df = pd.DataFrame(pairs, columns=['Coins','Prices'])"
      ],
      "execution_count": null,
      "outputs": [
        {
          "output_type": "stream",
          "name": "stdout",
          "text": [
            "Bitcoin $36,672.67\n",
            "Ethereum $2,447.13\n",
            "Chainlink $15.60\n",
            "Litecoin $109.70\n",
            "Filecoin $18.33\n",
            "Uniswap $10.65\n",
            "The-Graph $0.3898\n",
            "Algorand $0.9288\n",
            "Celo $3.05\n",
            "kyber-network-crystal-legacy $1.54\n",
            "basic-attention-token $0.7439\n",
            "omg $4.11\n",
            "polygon $1.51\n",
            "sushiswap $4.39\n",
            "aave $151.06\n",
            "augur $12.20\n",
            "uma $5.96\n",
            "numeraire $20.55\n",
            "loopring $0.8548\n",
            "decentraland $2.10\n",
            "synthetix-network-token $4.22\n",
            "yearn-finance $24,014.62\n",
            "curve-dao-token $2.83\n",
            "tokemak $27.91\n",
            "frax-share $18.10\n",
            "klima-dao $61.61\n",
            "gitcoin $6.69\n",
            "gala $0.1854\n",
            "dopex $1,778.87\n",
            "dopex-rdpx $212.99\n",
            "convex-finance $27.70\n",
            "butterflydao $666.20\n",
            "fantom $2.24\n"
          ]
        }
      ]
    },
    {
      "cell_type": "markdown",
      "metadata": {
        "id": "TDwWf5l7nfBN"
      },
      "source": [
        "Import Gspread-Pandas package"
      ]
    },
    {
      "cell_type": "code",
      "metadata": {
        "id": "yL9xCF4VhIAT"
      },
      "source": [
        "from gspread_dataframe import set_with_dataframe"
      ],
      "execution_count": null,
      "outputs": []
    },
    {
      "cell_type": "markdown",
      "metadata": {
        "id": "TVeNjPVFnjJ2"
      },
      "source": [
        "Define which sheet to manipulate, then update it with the dataframe"
      ]
    },
    {
      "cell_type": "code",
      "metadata": {
        "id": "yaOI95EDhLA8"
      },
      "source": [
        "sheet = wb.worksheet(\"Prices\")\n",
        "set_with_dataframe(sheet, df)"
      ],
      "execution_count": null,
      "outputs": []
    },
    {
      "cell_type": "code",
      "metadata": {
        "id": "MhFI6NSlzqyb",
        "outputId": "5d300759-8b9a-4ef9-af65-aea0c6e0e4ec",
        "colab": {
          "base_uri": "https://localhost:8080/"
        }
      },
      "source": [
        "print(df)"
      ],
      "execution_count": null,
      "outputs": [
        {
          "output_type": "stream",
          "name": "stdout",
          "text": [
            "                           Coins      Prices\n",
            "0                        Bitcoin  $36,672.67\n",
            "1                       Ethereum   $2,447.13\n",
            "2                      Chainlink      $15.60\n",
            "3                       Litecoin     $109.70\n",
            "4                       Filecoin      $18.33\n",
            "5                        Uniswap      $10.65\n",
            "6                      The-Graph     $0.3898\n",
            "7                       Algorand     $0.9288\n",
            "8                           Celo       $3.05\n",
            "9   kyber-network-crystal-legacy       $1.54\n",
            "10         basic-attention-token     $0.7439\n",
            "11                           omg       $4.11\n",
            "12                       polygon       $1.51\n",
            "13                     sushiswap       $4.39\n",
            "14                          aave     $151.06\n",
            "15                         augur      $12.20\n",
            "16                           uma       $5.96\n",
            "17                     numeraire      $20.55\n",
            "18                      loopring     $0.8548\n",
            "19                  decentraland       $2.10\n",
            "20       synthetix-network-token       $4.22\n",
            "21                 yearn-finance  $24,014.62\n",
            "22               curve-dao-token       $2.83\n",
            "23                       tokemak      $27.91\n",
            "24                    frax-share      $18.10\n",
            "25                     klima-dao      $61.61\n",
            "26                       gitcoin       $6.69\n",
            "27                          gala     $0.1854\n",
            "28                         dopex   $1,778.87\n",
            "29                    dopex-rdpx     $212.99\n",
            "30                convex-finance      $27.70\n",
            "31                  butterflydao     $666.20\n",
            "32                        fantom       $2.24\n"
          ]
        }
      ]
    }
  ]
}