{
  "nbformat": 4,
  "nbformat_minor": 0,
  "metadata": {
    "colab": {
      "name": "crypto_price_scrape_template.ipynb",
      "provenance": [],
      "authorship_tag": "ABX9TyPEhf41sKzk/ZI9j1LweKYJ",
      "include_colab_link": true
    },
    "kernelspec": {
      "name": "python3",
      "display_name": "Python 3"
    },
    "language_info": {
      "name": "python"
    }
  },
  "cells": [
    {
      "cell_type": "markdown",
      "metadata": {
        "id": "view-in-github",
        "colab_type": "text"
      },
      "source": [
        "<a href=\"https://colab.research.google.com/github/dkuthoore/crypto_test_2/blob/main/crypto_price_scrape_template.ipynb\" target=\"_parent\"><img src=\"https://colab.research.google.com/assets/colab-badge.svg\" alt=\"Open In Colab\"/></a>"
      ]
    },
    {
      "cell_type": "markdown",
      "metadata": {
        "id": "9jECsRminJzs"
      },
      "source": [
        "Authenticate to Access Google Sheets"
      ]
    },
    {
      "cell_type": "code",
      "metadata": {
        "id": "MCyL8h1lc9nb"
      },
      "source": [
        "from google.colab import auth\n",
        "auth.authenticate_user()\n",
        "import gspread\n",
        "from oauth2client.client import GoogleCredentials\n",
        "gc = gspread.authorize(GoogleCredentials.get_application_default())"
      ],
      "execution_count": null,
      "outputs": []
    },
    {
      "cell_type": "markdown",
      "metadata": {
        "id": "EXMv5O42nSSR"
      },
      "source": [
        "Open your Google Sheet using URL"
      ]
    },
    {
      "cell_type": "code",
      "metadata": {
        "id": "9RAO1QMweykz"
      },
      "source": [
        "wb = gc.open_by_url('INSERT THE URL OF YOUR GOOGLE SHEET HERE')"
      ],
      "execution_count": null,
      "outputs": []
    },
    {
      "cell_type": "markdown",
      "metadata": {
        "id": "MZ3wyfo2nbNc"
      },
      "source": [
        "Run Script to pull prices"
      ]
    },
    {
      "cell_type": "code",
      "metadata": {
        "id": "1bNrX1T3gm6g"
      },
      "source": [
        "from bs4 import BeautifulSoup\n",
        "import requests\n",
        "import pandas as pd \n",
        "\n",
        "#Enter coins that you want to track here. For a given coin, enter the portio of the coinmarketcap.com URL that contains the name of the token \n",
        "#For example, https://coinmarketcap.com/currencies/bitcoin/\n",
        "coinlist = ['Bitcoin', 'Ethereum', 'Chainlink', 'Filecoin', 'decentraland','synthetix-network-token','yearn-finance','curve-dao-token']\n",
        "pricelist=[]\n",
        "\n",
        "#function to get price from coinmarketcap \n",
        "def get_price(coin):\n",
        "    \n",
        "    cmc = requests.get('https://coinmarketcap.com/currencies/'+coin+'/')\n",
        "    soup = BeautifulSoup(cmc.content, 'html.parser')\n",
        "    price = soup.find('div', attrs={'class':'priceValue'}).text\n",
        "    \n",
        "    return price\n",
        "\n",
        "#fill in pricelist with prices, in the same order as coinlist      \n",
        "for coin in coinlist:\n",
        "    pricelist.append(get_price(coin)) \n",
        "       \n",
        "#join coinlist and pricelist and store in a dataframe \n",
        "pairs = list(zip(coinlist, pricelist))    \n",
        "df = pd.DataFrame(pairs, columns=['Coins','Prices'])"
      ],
      "execution_count": 1,
      "outputs": []
    },
    {
      "cell_type": "markdown",
      "metadata": {
        "id": "TDwWf5l7nfBN"
      },
      "source": [
        "Import Gspread-Pandas package"
      ]
    },
    {
      "cell_type": "code",
      "metadata": {
        "id": "yL9xCF4VhIAT"
      },
      "source": [
        "from gspread_dataframe import set_with_dataframe"
      ],
      "execution_count": null,
      "outputs": []
    },
    {
      "cell_type": "markdown",
      "metadata": {
        "id": "TVeNjPVFnjJ2"
      },
      "source": [
        "Define which sheet to manipulate, then update it with the dataframe"
      ]
    },
    {
      "cell_type": "code",
      "metadata": {
        "id": "yaOI95EDhLA8"
      },
      "source": [
        "#Make a sheet in your Google Sheets workbook that is called \"Prices\"\n",
        "sheet = wb.worksheet(\"Prices\")\n",
        "set_with_dataframe(sheet, df)"
      ],
      "execution_count": null,
      "outputs": []
    },
    {
      "cell_type": "code",
      "metadata": {
        "id": "MhFI6NSlzqyb",
        "outputId": "e4df86af-2e8b-4333-fb95-2ce0a8f057e7",
        "colab": {
          "base_uri": "https://localhost:8080/"
        }
      },
      "source": [
        "print(df)"
      ],
      "execution_count": null,
      "outputs": [
        {
          "output_type": "stream",
          "name": "stdout",
          "text": [
            "                           Coins      Prices\n",
            "0                        Bitcoin  $44,307.07\n",
            "1                       Ethereum   $3,225.42\n",
            "2                      Chainlink      $18.43\n",
            "3                       Litecoin     $138.73\n",
            "4                       Filecoin      $24.02\n",
            "5                        Uniswap      $12.21\n",
            "6                      The-Graph     $0.4878\n",
            "7                       Algorand       $1.04\n",
            "8                           Celo       $3.44\n",
            "9   kyber-network-crystal-legacy       $1.97\n",
            "10         basic-attention-token     $0.9445\n",
            "11                           omg       $5.44\n",
            "12                       polygon       $2.00\n",
            "13                     sushiswap       $4.81\n",
            "14                          aave     $187.46\n",
            "15                         augur      $15.32\n",
            "16                           uma       $6.62\n",
            "17                     numeraire      $27.82\n",
            "18                      loopring       $1.09\n",
            "19                  decentraland       $3.30\n",
            "20       synthetix-network-token       $5.71\n",
            "21                 yearn-finance  $25,972.72\n",
            "22               curve-dao-token       $3.46\n",
            "23                       tokemak      $42.00\n",
            "24                    frax-share      $21.65\n",
            "25                     klima-dao      $30.66\n",
            "26                       gitcoin       $9.10\n",
            "27                          gala     $0.3633\n",
            "28                         dopex   $2,307.49\n",
            "29                    dopex-rdpx     $163.82\n",
            "30                convex-finance      $29.24\n",
            "31                  butterflydao     $923.07\n",
            "32                        fantom       $2.24\n"
          ]
        }
      ]
    }
  ]
}