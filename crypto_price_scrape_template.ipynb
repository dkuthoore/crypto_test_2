{
  "nbformat": 4,
  "nbformat_minor": 0,
  "metadata": {
    "colab": {
      "name": "crypto_price_scrape_template.ipynb",
      "provenance": [],
      "authorship_tag": "ABX9TyNhaO+0be4plIMMbmEZdxo2",
      "include_colab_link": true
    },
    "kernelspec": {
      "name": "python3",
      "display_name": "Python 3"
    },
    "language_info": {
      "name": "python"
    }
  },
  "cells": [
    {
      "cell_type": "markdown",
      "metadata": {
        "id": "view-in-github",
        "colab_type": "text"
      },
      "source": [
        "<a href=\"https://colab.research.google.com/github/dkuthoore/crypto_price_scrape/blob/main/crypto_price_scrape_template.ipynb\" target=\"_parent\"><img src=\"https://colab.research.google.com/assets/colab-badge.svg\" alt=\"Open In Colab\"/></a>"
      ]
    },
    {
      "cell_type": "markdown",
      "metadata": {
        "id": "9jECsRminJzs"
      },
      "source": [
        "Authenticate to Access your Google Account"
      ]
    },
    {
      "cell_type": "code",
      "metadata": {
        "id": "MCyL8h1lc9nb"
      },
      "source": [
        "from google.colab import auth\n",
        "auth.authenticate_user()\n",
        "\n",
        "import gspread\n",
        "from google.auth import default\n",
        "creds, _ = default()\n",
        "\n",
        "gc = gspread.authorize(creds)"
      ],
      "execution_count": null,
      "outputs": []
    },
    {
      "cell_type": "markdown",
      "metadata": {
        "id": "EXMv5O42nSSR"
      },
      "source": [
        "Open your Google Sheet using URL"
      ]
    },
    {
      "cell_type": "code",
      "metadata": {
        "id": "9RAO1QMweykz"
      },
      "source": [
        "wb = gc.open_by_url('INSERT THE URL OF YOUR GOOGLE SHEET HERE')"
      ],
      "execution_count": null,
      "outputs": []
    },
    {
      "cell_type": "markdown",
      "metadata": {
        "id": "MZ3wyfo2nbNc"
      },
      "source": [
        "Run Script to pull prices"
      ]
    },
    {
      "cell_type": "code",
      "metadata": {
        "id": "1bNrX1T3gm6g"
      },
      "source": [
        "from bs4 import BeautifulSoup\n",
        "import requests\n",
        "import pandas as pd \n",
        "\n",
        "#Enter coins that you want to track here. For a given coin, enter the portion of the coinmarketcap.com URL that contains the name of the token \n",
        "#For example, https://coinmarketcap.com/currencies/bitcoin/, you would enter 'bitcoin' in the list, as shown below. \n",
        "coinlist = ['Bitcoin', 'Ethereum', 'Chainlink', 'Filecoin', 'decentraland','synthetix-network-token','yearn-finance','curve-dao-token']\n",
        "pricelist=[]\n",
        "\n",
        "#function to get price from coinmarketcap \n",
        "def get_price(coin):\n",
        "    \n",
        "    cmc = requests.get('https://coinmarketcap.com/currencies/'+coin+'/')\n",
        "    soup = BeautifulSoup(cmc.content, 'html.parser')\n",
        "    price = soup.find('div', attrs={'class':'priceValue'}).text\n",
        "    \n",
        "    return price\n",
        "\n",
        "#fill in pricelist with prices, in the same order as coinlist      \n",
        "for coin in coinlist:\n",
        "    pricelist.append(get_price(coin)) \n",
        "       \n",
        "#join coinlist and pricelist and store in a dataframe \n",
        "pairs = list(zip(coinlist, pricelist))    \n",
        "df = pd.DataFrame(pairs, columns=['Coins','Prices'])"
      ],
      "execution_count": null,
      "outputs": []
    },
    {
      "cell_type": "markdown",
      "metadata": {
        "id": "TDwWf5l7nfBN"
      },
      "source": [
        "Import Gspread-Pandas package to work with dataframes"
      ]
    },
    {
      "cell_type": "code",
      "metadata": {
        "id": "yL9xCF4VhIAT"
      },
      "source": [
        "from gspread_dataframe import set_with_dataframe"
      ],
      "execution_count": null,
      "outputs": []
    },
    {
      "cell_type": "markdown",
      "metadata": {
        "id": "TVeNjPVFnjJ2"
      },
      "source": [
        "Define which sheet to manipulate, then update it with the dataframe"
      ]
    },
    {
      "cell_type": "code",
      "metadata": {
        "id": "yaOI95EDhLA8"
      },
      "source": [
        "#Make a sheet in your Google Sheets workbook that is called \"Prices\"\n",
        "sheet = wb.worksheet(\"Prices\")\n",
        "set_with_dataframe(sheet, df)"
      ],
      "execution_count": null,
      "outputs": []
    }
  ]
}